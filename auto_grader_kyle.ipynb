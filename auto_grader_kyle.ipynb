{
  "nbformat": 4,
  "nbformat_minor": 0,
  "metadata": {
    "colab": {
      "provenance": [],
      "include_colab_link": true
    },
    "kernelspec": {
      "name": "python3",
      "display_name": "Python 3"
    },
    "language_info": {
      "name": "python"
    }
  },
  "cells": [
    {
      "cell_type": "markdown",
      "metadata": {
        "id": "view-in-github",
        "colab_type": "text"
      },
      "source": [
        "<a href=\"https://colab.research.google.com/github/MatchaMyu/School-Projects/blob/main/auto_grader_kyle.ipynb\" target=\"_parent\"><img src=\"https://colab.research.google.com/assets/colab-badge.svg\" alt=\"Open In Colab\"/></a>"
      ]
    },
    {
      "cell_type": "markdown",
      "source": [
        "# Auto-Grader\n",
        "## Final Project for \"CSCI 2011-51 Programming in Python\"\n",
        "## Summer 2024\n",
        "\n",
        "# 1. Please make sure that you upload the two grade books to google colab each time you run this notebook.\n",
        "# 2. Your program should not have any global variables.\n",
        "# 3. You will be creating many helper methods as needed to meet the requirements.\n",
        "# 4. A correct implementation of this method will produce four output files."
      ],
      "metadata": {
        "id": "PD0fw09WLO_Q"
      }
    },
    {
      "cell_type": "code",
      "execution_count": null,
      "metadata": {
        "id": "VaqCihJjDJya"
      },
      "outputs": [],
      "source": [
        "def process_file(input_scores_file, output_grades_file, output_feedback_file):\n",
        "\n",
        "    def get_grade(percentage):\n",
        "        if percentage >= 90:\n",
        "            return 'A'\n",
        "        elif percentage >= 80:\n",
        "            return 'B'\n",
        "        elif percentage >= 70:\n",
        "            return 'C'\n",
        "        elif percentage >= 60:\n",
        "            return 'D'\n",
        "        else:\n",
        "            return 'F'\n",
        "\n",
        "    # Open the CSV file for reading\n",
        "    with open(input_scores_file, \"r\") as csv_file:\n",
        "        # Open the TXT file for writing\n",
        "        with open(output_feedback_file, \"w\") as txt_file:\n",
        "          with open(output_grades_file, \"w\") as grade_file:\n",
        "\n",
        "            # Read the header row to combine and assign\n",
        "            headers = csv_file.readline().strip().split(',')\n",
        "\n",
        "            # Add new headers for the output grade file\n",
        "            new_headers = headers + [\"Total Points\", \"Percentage\", \"Grade\"]\n",
        "            grade_file.write(','.join(new_headers) + '\\n')\n",
        "\n",
        "            # Read the second row to calculate total points. Note this removes the dummy student from final calculations.\n",
        "            second_row = csv_file.readline().strip().split(',')\n",
        "            total_points = sum(int(point) for point in second_row[4:] if point.isdigit())\n",
        "\n",
        "            # Read through each line in the CSV file\n",
        "            for line in csv_file:\n",
        "                # Split the line by commas Needed to keep things seperate.\n",
        "                data = line.strip().split(',')\n",
        "                # Combine the header from first line\n",
        "                for header, item in zip(headers, data):\n",
        "                    txt_file.write(f\"{header}: {item}\\n\")\n",
        "\n",
        "                # Adds points in columns 5 through X for each student.\n",
        "                points = [int(point) for point in data[4:] if point]\n",
        "                my_points = sum(points)\n",
        "\n",
        "                # Add total score after each set\n",
        "                txt_file.write(f\"Total Points: {my_points}\\n\")\n",
        "                txt_file.write(f\"Percentage: {(my_points / total_points) * 100:.0f}%\\n\")\n",
        "                percentage = (my_points / total_points) * 100\n",
        "                grade = get_grade(percentage)\n",
        "                txt_file.write(f\"Grade: {(grade)}\\n\")\n",
        "                txt_file.write(f\"\\n\")\n",
        "\n",
        "                # Write to grade file with new columns\n",
        "                new_data = data + [str(my_points), f\"{percentage:.0f}%\", grade]\n",
        "                grade_file.write(','.join(new_data) + '\\n')"
      ]
    },
    {
      "cell_type": "code",
      "source": [
        "#@title Process file 1  (Do not change this coding cell)\n",
        "INPUT_SCORES_FILE = \"grade_book_1.csv\"\n",
        "OUTPUT_GRADES_FILE = \"final_grades_1.txt\"\n",
        "OUTPUT_FEEDBACK_FILE = \"feedback_1.txt\"\n",
        "process_file(INPUT_SCORES_FILE, OUTPUT_GRADES_FILE, OUTPUT_FEEDBACK_FILE)\n",
        "print(f\"{INPUT_SCORES_FILE} is processed. Results are saved to {OUTPUT_GRADES_FILE} and {OUTPUT_FEEDBACK_FILE}\")"
      ],
      "metadata": {
        "id": "OijQ24w9JqRf",
        "colab": {
          "base_uri": "https://localhost:8080/"
        },
        "outputId": "482928d9-ee3c-43e5-dd1c-a500079a82d4"
      },
      "execution_count": null,
      "outputs": [
        {
          "output_type": "stream",
          "name": "stdout",
          "text": [
            "grade_book_1.csv is processed. Results are saved to final_grades_1.txt and feedback_1.txt\n"
          ]
        }
      ]
    },
    {
      "cell_type": "code",
      "source": [
        "from google.colab import drive\n",
        "drive.mount('/content/drive')"
      ],
      "metadata": {
        "id": "JLSH3_Lgw5A4",
        "colab": {
          "base_uri": "https://localhost:8080/"
        },
        "outputId": "2a3cee60-5678-4151-f62b-cce330cb780a"
      },
      "execution_count": null,
      "outputs": [
        {
          "output_type": "error",
          "ename": "MessageError",
          "evalue": "Error: credential propagation was unsuccessful",
          "traceback": [
            "\u001b[0;31m---------------------------------------------------------------------------\u001b[0m",
            "\u001b[0;31mMessageError\u001b[0m                              Traceback (most recent call last)",
            "\u001b[0;32m<ipython-input-70-d5df0069828e>\u001b[0m in \u001b[0;36m<cell line: 2>\u001b[0;34m()\u001b[0m\n\u001b[1;32m      1\u001b[0m \u001b[0;32mfrom\u001b[0m \u001b[0mgoogle\u001b[0m\u001b[0;34m.\u001b[0m\u001b[0mcolab\u001b[0m \u001b[0;32mimport\u001b[0m \u001b[0mdrive\u001b[0m\u001b[0;34m\u001b[0m\u001b[0;34m\u001b[0m\u001b[0m\n\u001b[0;32m----> 2\u001b[0;31m \u001b[0mdrive\u001b[0m\u001b[0;34m.\u001b[0m\u001b[0mmount\u001b[0m\u001b[0;34m(\u001b[0m\u001b[0;34m'/content/drive'\u001b[0m\u001b[0;34m)\u001b[0m\u001b[0;34m\u001b[0m\u001b[0;34m\u001b[0m\u001b[0m\n\u001b[0m",
            "\u001b[0;32m/usr/local/lib/python3.10/dist-packages/google/colab/drive.py\u001b[0m in \u001b[0;36mmount\u001b[0;34m(mountpoint, force_remount, timeout_ms, readonly)\u001b[0m\n\u001b[1;32m     98\u001b[0m \u001b[0;32mdef\u001b[0m \u001b[0mmount\u001b[0m\u001b[0;34m(\u001b[0m\u001b[0mmountpoint\u001b[0m\u001b[0;34m,\u001b[0m \u001b[0mforce_remount\u001b[0m\u001b[0;34m=\u001b[0m\u001b[0;32mFalse\u001b[0m\u001b[0;34m,\u001b[0m \u001b[0mtimeout_ms\u001b[0m\u001b[0;34m=\u001b[0m\u001b[0;36m120000\u001b[0m\u001b[0;34m,\u001b[0m \u001b[0mreadonly\u001b[0m\u001b[0;34m=\u001b[0m\u001b[0;32mFalse\u001b[0m\u001b[0;34m)\u001b[0m\u001b[0;34m:\u001b[0m\u001b[0;34m\u001b[0m\u001b[0;34m\u001b[0m\u001b[0m\n\u001b[1;32m     99\u001b[0m   \u001b[0;34m\"\"\"Mount your Google Drive at the specified mountpoint path.\"\"\"\u001b[0m\u001b[0;34m\u001b[0m\u001b[0;34m\u001b[0m\u001b[0m\n\u001b[0;32m--> 100\u001b[0;31m   return _mount(\n\u001b[0m\u001b[1;32m    101\u001b[0m       \u001b[0mmountpoint\u001b[0m\u001b[0;34m,\u001b[0m\u001b[0;34m\u001b[0m\u001b[0;34m\u001b[0m\u001b[0m\n\u001b[1;32m    102\u001b[0m       \u001b[0mforce_remount\u001b[0m\u001b[0;34m=\u001b[0m\u001b[0mforce_remount\u001b[0m\u001b[0;34m,\u001b[0m\u001b[0;34m\u001b[0m\u001b[0;34m\u001b[0m\u001b[0m\n",
            "\u001b[0;32m/usr/local/lib/python3.10/dist-packages/google/colab/drive.py\u001b[0m in \u001b[0;36m_mount\u001b[0;34m(mountpoint, force_remount, timeout_ms, ephemeral, readonly)\u001b[0m\n\u001b[1;32m    131\u001b[0m   )\n\u001b[1;32m    132\u001b[0m   \u001b[0;32mif\u001b[0m \u001b[0mephemeral\u001b[0m\u001b[0;34m:\u001b[0m\u001b[0;34m\u001b[0m\u001b[0;34m\u001b[0m\u001b[0m\n\u001b[0;32m--> 133\u001b[0;31m     _message.blocking_request(\n\u001b[0m\u001b[1;32m    134\u001b[0m         \u001b[0;34m'request_auth'\u001b[0m\u001b[0;34m,\u001b[0m\u001b[0;34m\u001b[0m\u001b[0;34m\u001b[0m\u001b[0m\n\u001b[1;32m    135\u001b[0m         \u001b[0mrequest\u001b[0m\u001b[0;34m=\u001b[0m\u001b[0;34m{\u001b[0m\u001b[0;34m'authType'\u001b[0m\u001b[0;34m:\u001b[0m \u001b[0;34m'dfs_ephemeral'\u001b[0m\u001b[0;34m}\u001b[0m\u001b[0;34m,\u001b[0m\u001b[0;34m\u001b[0m\u001b[0;34m\u001b[0m\u001b[0m\n",
            "\u001b[0;32m/usr/local/lib/python3.10/dist-packages/google/colab/_message.py\u001b[0m in \u001b[0;36mblocking_request\u001b[0;34m(request_type, request, timeout_sec, parent)\u001b[0m\n\u001b[1;32m    174\u001b[0m       \u001b[0mrequest_type\u001b[0m\u001b[0;34m,\u001b[0m \u001b[0mrequest\u001b[0m\u001b[0;34m,\u001b[0m \u001b[0mparent\u001b[0m\u001b[0;34m=\u001b[0m\u001b[0mparent\u001b[0m\u001b[0;34m,\u001b[0m \u001b[0mexpect_reply\u001b[0m\u001b[0;34m=\u001b[0m\u001b[0;32mTrue\u001b[0m\u001b[0;34m\u001b[0m\u001b[0;34m\u001b[0m\u001b[0m\n\u001b[1;32m    175\u001b[0m   )\n\u001b[0;32m--> 176\u001b[0;31m   \u001b[0;32mreturn\u001b[0m \u001b[0mread_reply_from_input\u001b[0m\u001b[0;34m(\u001b[0m\u001b[0mrequest_id\u001b[0m\u001b[0;34m,\u001b[0m \u001b[0mtimeout_sec\u001b[0m\u001b[0;34m)\u001b[0m\u001b[0;34m\u001b[0m\u001b[0;34m\u001b[0m\u001b[0m\n\u001b[0m",
            "\u001b[0;32m/usr/local/lib/python3.10/dist-packages/google/colab/_message.py\u001b[0m in \u001b[0;36mread_reply_from_input\u001b[0;34m(message_id, timeout_sec)\u001b[0m\n\u001b[1;32m    101\u001b[0m     ):\n\u001b[1;32m    102\u001b[0m       \u001b[0;32mif\u001b[0m \u001b[0;34m'error'\u001b[0m \u001b[0;32min\u001b[0m \u001b[0mreply\u001b[0m\u001b[0;34m:\u001b[0m\u001b[0;34m\u001b[0m\u001b[0;34m\u001b[0m\u001b[0m\n\u001b[0;32m--> 103\u001b[0;31m         \u001b[0;32mraise\u001b[0m \u001b[0mMessageError\u001b[0m\u001b[0;34m(\u001b[0m\u001b[0mreply\u001b[0m\u001b[0;34m[\u001b[0m\u001b[0;34m'error'\u001b[0m\u001b[0;34m]\u001b[0m\u001b[0;34m)\u001b[0m\u001b[0;34m\u001b[0m\u001b[0;34m\u001b[0m\u001b[0m\n\u001b[0m\u001b[1;32m    104\u001b[0m       \u001b[0;32mreturn\u001b[0m \u001b[0mreply\u001b[0m\u001b[0;34m.\u001b[0m\u001b[0mget\u001b[0m\u001b[0;34m(\u001b[0m\u001b[0;34m'data'\u001b[0m\u001b[0;34m,\u001b[0m \u001b[0;32mNone\u001b[0m\u001b[0;34m)\u001b[0m\u001b[0;34m\u001b[0m\u001b[0;34m\u001b[0m\u001b[0m\n\u001b[1;32m    105\u001b[0m \u001b[0;34m\u001b[0m\u001b[0m\n",
            "\u001b[0;31mMessageError\u001b[0m: Error: credential propagation was unsuccessful"
          ]
        }
      ]
    },
    {
      "cell_type": "code",
      "source": [
        "#@title Process file 2   (Do not change this coding cell)\n",
        "INPUT_SCORES_FILE = \"grade_book_2.csv\"\n",
        "OUTPUT_GRADES_FILE = \"final_grades_2.txt\"\n",
        "OUTPUT_FEEDBACK_FILE = \"feedback_2.txt\"\n",
        "process_file(INPUT_SCORES_FILE, OUTPUT_GRADES_FILE, OUTPUT_FEEDBACK_FILE)\n",
        "print(f\"{INPUT_SCORES_FILE} is processed. Results are saved to {OUTPUT_GRADES_FILE} and {OUTPUT_FEEDBACK_FILE}\")"
      ],
      "metadata": {
        "id": "IWLf1ynBKNJA",
        "colab": {
          "base_uri": "https://localhost:8080/"
        },
        "outputId": "91753351-0f4e-4371-da58-be9fae1bc39c"
      },
      "execution_count": null,
      "outputs": [
        {
          "output_type": "stream",
          "name": "stdout",
          "text": [
            "grade_book_2.csv is processed. Results are saved to final_grades_2.txt and feedback_2.txt\n"
          ]
        }
      ]
    }
  ]
}